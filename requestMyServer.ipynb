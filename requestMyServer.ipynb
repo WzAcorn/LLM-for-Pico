{
 "cells": [
  {
   "cell_type": "code",
   "execution_count": 1,
   "metadata": {},
   "outputs": [
    {
     "name": "stderr",
     "output_type": "stream",
     "text": [
      "c:\\Users\\Acorn\\AppData\\Local\\Programs\\Python\\Python311\\Lib\\site-packages\\langchain_core\\_api\\deprecation.py:117: LangChainDeprecationWarning: The class `langchain_community.chat_models.openai.ChatOpenAI` was deprecated in langchain-community 0.0.10 and will be removed in 0.2.0. An updated version of the class exists in the langchain-openai package and should be used instead. To use it run `pip install -U langchain-openai` and import as `from langchain_openai import ChatOpenAI`.\n",
      "  warn_deprecated(\n"
     ]
    }
   ],
   "source": [
    "from langchain.chains import create_tagging_chain\n",
    "from langchain.chat_models import ChatOpenAI\n",
    "llm = ChatOpenAI(temperature=0, model=\"gpt-3.5-turbo-1106\")"
   ]
  },
  {
   "cell_type": "code",
   "execution_count": 2,
   "metadata": {},
   "outputs": [],
   "source": [
    "led_Control_Schema = {\n",
    "    \"description\": \"\"\"\n",
    "    - This field specifies the brightness of the light from 0 (completely off) to 255 (maximum brightness).\n",
    "    - Please only use multiples of 7 to provide users with a variety of values.\n",
    "    - The RGB value is determined by considering the user's situation and emotions.\n",
    "    - Let's Think about it step by step.\n",
    "    \"\"\",\n",
    "    \"properties\": {\n",
    "        \"red\": {\n",
    "            \"type\": \"integer\",\n",
    "            \"minimum\": 0,  # 최소값을 0으로 설정\n",
    "            \"maximum\": 255,  # 최대값을 255로 설정\n",
    "            \"description\": \"This column is the red value of RGBleb, which means aggressive, passionate, and loving.\",\n",
    "        },\n",
    "        \"green\": {\n",
    "            \"type\": \"integer\",\n",
    "            \"minimum\": 0,  # 최소값을 0으로 설정\n",
    "            \"maximum\": 255,  # 최대값을 255로 설정\n",
    "            \"description\": \"This column is the green value of RGBleb, meaning calm, stable, and neutral.\",\n",
    "        },\n",
    "        \"blue\": {\n",
    "            \"type\": \"integer\",\n",
    "            \"minimum\": 0,  # 최소값을 0으로 설정\n",
    "            \"maximum\": 255,  # 최대값을 255로 설정\n",
    "            \"description\": \"This column is the blue value of RGBleb, meaning gloomy, fearful, and negative.\",\n",
    "        },\n",
    "                        \n",
    "    },\n",
    "    \"required\": [\"red\",\"green\",\"blue\"]\n",
    "}"
   ]
  },
  {
   "cell_type": "code",
   "execution_count": 3,
   "metadata": {},
   "outputs": [
    {
     "name": "stdout",
     "output_type": "stream",
     "text": [
      "{'input': '잔잔한 느낌으로 불을 켜줘', 'text': {'red': 0, 'green': 150, 'blue': 255}}\n"
     ]
    }
   ],
   "source": [
    "query = \"잔잔한 느낌으로 불을 켜줘\"\n",
    "chain = create_tagging_chain(led_Control_Schema, llm)\n",
    "answer = chain.invoke(query)\n",
    "print(answer)"
   ]
  },
  {
   "cell_type": "code",
   "execution_count": 4,
   "metadata": {},
   "outputs": [],
   "source": [
    "devide_sensor = {\n",
    "    \"description\": \"\"\"\n",
    "    - This request parses the user's request and returns one of the picobricks sensors.\n",
    "    - Let's Think about it step by step.\n",
    "    \"\"\",\n",
    "    \"properties\": {\n",
    "        \"sensor\": {\n",
    "            \"type\": \"integer\",\n",
    "            \"enum\": [\"LED\", \"BUZZER\", \"MONITER\",\"DHT\", \"RELAY\",\"LDR\",\"WIRELESS\"],\n",
    "            \"description\": \"This column is the red value of RGBleb, which means aggressive, passionate, and loving.\",\n",
    "        },                   \n",
    "    },\n",
    "    \"required\": [\"sensor\"]\n",
    "    \n",
    "}"
   ]
  },
  {
   "cell_type": "code",
   "execution_count": 5,
   "metadata": {},
   "outputs": [
    {
     "name": "stdout",
     "output_type": "stream",
     "text": [
      "LED\n"
     ]
    }
   ],
   "source": [
    "query = \"우울한 분위기에 맞는 조명을 켜줘\"\n",
    "chain = create_tagging_chain(devide_sensor, llm)\n",
    "answer = chain.invoke(query)\n",
    "print(answer['text']['sensor'])"
   ]
  },
  {
   "cell_type": "code",
   "execution_count": 6,
   "metadata": {},
   "outputs": [],
   "source": [
    "import requests\n",
    "import json\n",
    "\n",
    "# Flask 애플리케이션이 실행 중인 서버의 주소\n",
    "url = 'http://192.168.0.5:8080/sensor_Control'\n",
    "\n",
    "# 전송할 데이터. 'prompt'에 원하는 텍스트를 입력하세요.\n",
    "data = {\"query\": \"Let the buzzer sound a any simple song shortly\"}\n",
    "# POST 요청을 보냅니다.\n",
    "response = requests.post(url, json=data)\n",
    "\n",
    "# 응답 확인\n",
    "if response.status_code == 200:\n",
    "    print(\"응답 데이터:\", response.json())\n",
    "else:\n",
    "    print(\"오류 발생:\", response.status_code)\n"
   ]
  }
 ],
 "metadata": {
  "kernelspec": {
   "display_name": "Python 3",
   "language": "python",
   "name": "python3"
  },
  "language_info": {
   "codemirror_mode": {
    "name": "ipython",
    "version": 3
   },
   "file_extension": ".py",
   "mimetype": "text/x-python",
   "name": "python",
   "nbconvert_exporter": "python",
   "pygments_lexer": "ipython3",
   "version": "3.11.6"
  }
 },
 "nbformat": 4,
 "nbformat_minor": 2
}
