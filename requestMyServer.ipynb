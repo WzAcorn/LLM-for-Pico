{
 "cells": [
  {
   "cell_type": "code",
   "execution_count": 43,
   "metadata": {},
   "outputs": [
    {
     "name": "stdout",
     "output_type": "stream",
     "text": [
      "응답 데이터: led,150\n"
     ]
    }
   ],
   "source": [
    "import requests\n",
    "import json\n",
    "\n",
    "# Flask 애플리케이션이 실행 중인 서버의 주소\n",
    "url = 'http://127.0.0.1:8080/led_Control'\n",
    "\n",
    "# 전송할 데이터. 'prompt'에 원하는 텍스트를 입력하세요.\n",
    "data = {\"query\": \n",
    "\"여자친구가 집에 놀러온대. 무드있는 분위기로 조명을 켜줘\"}\n",
    "# POST 요청을 보냅니다.\n",
    "response = requests.post(url, json=data)\n",
    "\n",
    "# 응답 확인\n",
    "if response.status_code == 200:\n",
    "    print(\"응답 데이터:\", response.json())\n",
    "else:\n",
    "    print(\"오류 발생:\", response.status_code)\n"
   ]
  }
 ],
 "metadata": {
  "kernelspec": {
   "display_name": "Python 3",
   "language": "python",
   "name": "python3"
  },
  "language_info": {
   "codemirror_mode": {
    "name": "ipython",
    "version": 3
   },
   "file_extension": ".py",
   "mimetype": "text/x-python",
   "name": "python",
   "nbconvert_exporter": "python",
   "pygments_lexer": "ipython3",
   "version": "3.11.6"
  }
 },
 "nbformat": 4,
 "nbformat_minor": 2
}
